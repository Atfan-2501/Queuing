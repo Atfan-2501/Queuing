{
  "nbformat": 4,
  "nbformat_minor": 0,
  "metadata": {
    "colab": {
      "provenance": []
    },
    "kernelspec": {
      "name": "python3",
      "display_name": "Python 3"
    },
    "language_info": {
      "name": "python"
    }
  },
  "cells": [
    {
      "cell_type": "markdown",
      "source": [
        "Problem: Identify the optimum number of cashiers for the seamless operations of small grocery store. Customer comes to the cashier with an exponential arrival time of 1.5 minute. The customer tend to finish checking out with a mean of 7 minutes. How many cashiers are required with waiting time no less than 5 minutes and service time being exponential?\n",
        "\n",
        "---\n",
        "\n"
      ],
      "metadata": {
        "id": "T8fXPVH6jCA2"
      }
    },
    {
      "cell_type": "markdown",
      "source": [
        "We will use queuecomputer library from R to solve the above problem"
      ],
      "metadata": {
        "id": "3s4k42HejPFs"
      }
    },
    {
      "cell_type": "code",
      "execution_count": null,
      "metadata": {
        "id": "p-J0m34hjNOh"
      },
      "outputs": [],
      "source": [
        "!pip install rpy2==3.5.1"
      ]
    },
    {
      "cell_type": "code",
      "source": [
        "#importing the required libraries\n",
        "from rpy2.robjects import r, pandas2ri\n",
        "from rpy2.robjects.packages import importr\n",
        "from rpy2.robjects import FloatVector\n",
        "import rpy2.robjects as ro\n",
        "import pandas as pd\n",
        "import numpy as np\n",
        "import matplotlib.pyplot as plt"
      ],
      "metadata": {
        "id": "dy4UguKojRpx"
      },
      "execution_count": 1,
      "outputs": []
    },
    {
      "cell_type": "code",
      "source": [
        "%load_ext rpy2.ipython"
      ],
      "metadata": {
        "id": "V61PH3kIlpxl"
      },
      "execution_count": 2,
      "outputs": []
    },
    {
      "cell_type": "markdown",
      "source": [
        "Installing queue computer"
      ],
      "metadata": {
        "id": "MfrvZTXJjgZc"
      }
    },
    {
      "cell_type": "code",
      "source": [
        "%%R\n",
        "install.packages(\"queuecomputer\")"
      ],
      "metadata": {
        "id": "zA9TqYDHlZ6Y"
      },
      "execution_count": null,
      "outputs": []
    },
    {
      "cell_type": "code",
      "source": [
        "pandas2ri.activate()\n",
        "importr(\"queuecomputer\")"
      ],
      "metadata": {
        "colab": {
          "base_uri": "https://localhost:8080/"
        },
        "id": "PZ2QOG5UjyCM",
        "outputId": "f0a44051-51e9-4908-e2d2-35021f5722de"
      },
      "execution_count": 13,
      "outputs": [
        {
          "output_type": "execute_result",
          "data": {
            "text/plain": [
              "rpy2.robjects.packages.Package as a <module 'queuecomputer'>"
            ]
          },
          "metadata": {},
          "execution_count": 13
        }
      ]
    },
    {
      "cell_type": "code",
      "source": [
        "# Defining the problem with variables\n",
        "lambda_inter_arrival_time = 1.5\n",
        "mu_service_time = 7\n",
        "no_of_servers = range(1,9)"
      ],
      "metadata": {
        "id": "ept7_nMekU34"
      },
      "execution_count": 14,
      "outputs": []
    },
    {
      "cell_type": "code",
      "source": [
        "# Defining a function to calculate waiting time\n",
        "def queue_sim(mean_inter_arrival, mean_service, servers):\n",
        "\n",
        "  # Simulating arrival time and service time\n",
        "  r_arr_time = FloatVector(np.random.exponential(mean_inter_arrival, 400).cumsum())\n",
        "  r_serv_time = FloatVector(np.random.exponential(mean_service, 400))\n",
        "\n",
        "  #Using R package to simulate queuing\n",
        "  simulation = r[\"queue_step\"](r_arr_time, r_serv_time, servers)\n",
        "  return simulation"
      ],
      "metadata": {
        "id": "GFfDTIbApcEW"
      },
      "execution_count": 15,
      "outputs": []
    },
    {
      "cell_type": "markdown",
      "source": [
        "We'll test the above function with random servers"
      ],
      "metadata": {
        "id": "cp-9svuG2jr9"
      }
    },
    {
      "cell_type": "code",
      "source": [
        "sim = queue_sim(lambda_inter_arrival_time, mu_service_time, 1)"
      ],
      "metadata": {
        "id": "g-5WooMirDOh"
      },
      "execution_count": 16,
      "outputs": []
    },
    {
      "cell_type": "code",
      "source": [
        "df = ro.conversion.rpy2py(sim[2])\n",
        "df.head()"
      ],
      "metadata": {
        "colab": {
          "base_uri": "https://localhost:8080/",
          "height": 206
        },
        "id": "_1hNYASbrWkQ",
        "outputId": "789d16db-1291-4bcf-d6a8-e5602da57878"
      },
      "execution_count": 17,
      "outputs": [
        {
          "output_type": "execute_result",
          "data": {
            "text/plain": [
              "   arrivals   service  departures    waiting  system_time  server\n",
              "1  0.039157  4.077070    4.116227   0.000000     4.077070       1\n",
              "2  0.231694  0.708332    4.824558   3.884533     4.592864       1\n",
              "3  1.888560  5.694305   10.518863   2.935998     8.630303       1\n",
              "4  1.905897  6.969442   17.488305   8.612966    15.582408       1\n",
              "5  3.927885  1.445473   18.933778  13.560419    15.005892       1"
            ],
            "text/html": [
              "\n",
              "  <div id=\"df-239f3a16-d4f9-49dd-b9fb-3328438d2d1b\">\n",
              "    <div class=\"colab-df-container\">\n",
              "      <div>\n",
              "<style scoped>\n",
              "    .dataframe tbody tr th:only-of-type {\n",
              "        vertical-align: middle;\n",
              "    }\n",
              "\n",
              "    .dataframe tbody tr th {\n",
              "        vertical-align: top;\n",
              "    }\n",
              "\n",
              "    .dataframe thead th {\n",
              "        text-align: right;\n",
              "    }\n",
              "</style>\n",
              "<table border=\"1\" class=\"dataframe\">\n",
              "  <thead>\n",
              "    <tr style=\"text-align: right;\">\n",
              "      <th></th>\n",
              "      <th>arrivals</th>\n",
              "      <th>service</th>\n",
              "      <th>departures</th>\n",
              "      <th>waiting</th>\n",
              "      <th>system_time</th>\n",
              "      <th>server</th>\n",
              "    </tr>\n",
              "  </thead>\n",
              "  <tbody>\n",
              "    <tr>\n",
              "      <th>1</th>\n",
              "      <td>0.039157</td>\n",
              "      <td>4.077070</td>\n",
              "      <td>4.116227</td>\n",
              "      <td>0.000000</td>\n",
              "      <td>4.077070</td>\n",
              "      <td>1</td>\n",
              "    </tr>\n",
              "    <tr>\n",
              "      <th>2</th>\n",
              "      <td>0.231694</td>\n",
              "      <td>0.708332</td>\n",
              "      <td>4.824558</td>\n",
              "      <td>3.884533</td>\n",
              "      <td>4.592864</td>\n",
              "      <td>1</td>\n",
              "    </tr>\n",
              "    <tr>\n",
              "      <th>3</th>\n",
              "      <td>1.888560</td>\n",
              "      <td>5.694305</td>\n",
              "      <td>10.518863</td>\n",
              "      <td>2.935998</td>\n",
              "      <td>8.630303</td>\n",
              "      <td>1</td>\n",
              "    </tr>\n",
              "    <tr>\n",
              "      <th>4</th>\n",
              "      <td>1.905897</td>\n",
              "      <td>6.969442</td>\n",
              "      <td>17.488305</td>\n",
              "      <td>8.612966</td>\n",
              "      <td>15.582408</td>\n",
              "      <td>1</td>\n",
              "    </tr>\n",
              "    <tr>\n",
              "      <th>5</th>\n",
              "      <td>3.927885</td>\n",
              "      <td>1.445473</td>\n",
              "      <td>18.933778</td>\n",
              "      <td>13.560419</td>\n",
              "      <td>15.005892</td>\n",
              "      <td>1</td>\n",
              "    </tr>\n",
              "  </tbody>\n",
              "</table>\n",
              "</div>\n",
              "      <button class=\"colab-df-convert\" onclick=\"convertToInteractive('df-239f3a16-d4f9-49dd-b9fb-3328438d2d1b')\"\n",
              "              title=\"Convert this dataframe to an interactive table.\"\n",
              "              style=\"display:none;\">\n",
              "        \n",
              "  <svg xmlns=\"http://www.w3.org/2000/svg\" height=\"24px\"viewBox=\"0 0 24 24\"\n",
              "       width=\"24px\">\n",
              "    <path d=\"M0 0h24v24H0V0z\" fill=\"none\"/>\n",
              "    <path d=\"M18.56 5.44l.94 2.06.94-2.06 2.06-.94-2.06-.94-.94-2.06-.94 2.06-2.06.94zm-11 1L8.5 8.5l.94-2.06 2.06-.94-2.06-.94L8.5 2.5l-.94 2.06-2.06.94zm10 10l.94 2.06.94-2.06 2.06-.94-2.06-.94-.94-2.06-.94 2.06-2.06.94z\"/><path d=\"M17.41 7.96l-1.37-1.37c-.4-.4-.92-.59-1.43-.59-.52 0-1.04.2-1.43.59L10.3 9.45l-7.72 7.72c-.78.78-.78 2.05 0 2.83L4 21.41c.39.39.9.59 1.41.59.51 0 1.02-.2 1.41-.59l7.78-7.78 2.81-2.81c.8-.78.8-2.07 0-2.86zM5.41 20L4 18.59l7.72-7.72 1.47 1.35L5.41 20z\"/>\n",
              "  </svg>\n",
              "      </button>\n",
              "      \n",
              "  <style>\n",
              "    .colab-df-container {\n",
              "      display:flex;\n",
              "      flex-wrap:wrap;\n",
              "      gap: 12px;\n",
              "    }\n",
              "\n",
              "    .colab-df-convert {\n",
              "      background-color: #E8F0FE;\n",
              "      border: none;\n",
              "      border-radius: 50%;\n",
              "      cursor: pointer;\n",
              "      display: none;\n",
              "      fill: #1967D2;\n",
              "      height: 32px;\n",
              "      padding: 0 0 0 0;\n",
              "      width: 32px;\n",
              "    }\n",
              "\n",
              "    .colab-df-convert:hover {\n",
              "      background-color: #E2EBFA;\n",
              "      box-shadow: 0px 1px 2px rgba(60, 64, 67, 0.3), 0px 1px 3px 1px rgba(60, 64, 67, 0.15);\n",
              "      fill: #174EA6;\n",
              "    }\n",
              "\n",
              "    [theme=dark] .colab-df-convert {\n",
              "      background-color: #3B4455;\n",
              "      fill: #D2E3FC;\n",
              "    }\n",
              "\n",
              "    [theme=dark] .colab-df-convert:hover {\n",
              "      background-color: #434B5C;\n",
              "      box-shadow: 0px 1px 3px 1px rgba(0, 0, 0, 0.15);\n",
              "      filter: drop-shadow(0px 1px 2px rgba(0, 0, 0, 0.3));\n",
              "      fill: #FFFFFF;\n",
              "    }\n",
              "  </style>\n",
              "\n",
              "      <script>\n",
              "        const buttonEl =\n",
              "          document.querySelector('#df-239f3a16-d4f9-49dd-b9fb-3328438d2d1b button.colab-df-convert');\n",
              "        buttonEl.style.display =\n",
              "          google.colab.kernel.accessAllowed ? 'block' : 'none';\n",
              "\n",
              "        async function convertToInteractive(key) {\n",
              "          const element = document.querySelector('#df-239f3a16-d4f9-49dd-b9fb-3328438d2d1b');\n",
              "          const dataTable =\n",
              "            await google.colab.kernel.invokeFunction('convertToInteractive',\n",
              "                                                     [key], {});\n",
              "          if (!dataTable) return;\n",
              "\n",
              "          const docLinkHtml = 'Like what you see? Visit the ' +\n",
              "            '<a target=\"_blank\" href=https://colab.research.google.com/notebooks/data_table.ipynb>data table notebook</a>'\n",
              "            + ' to learn more about interactive tables.';\n",
              "          element.innerHTML = '';\n",
              "          dataTable['output_type'] = 'display_data';\n",
              "          await google.colab.output.renderOutput(dataTable, element);\n",
              "          const docLink = document.createElement('div');\n",
              "          docLink.innerHTML = docLinkHtml;\n",
              "          element.appendChild(docLink);\n",
              "        }\n",
              "      </script>\n",
              "    </div>\n",
              "  </div>\n",
              "  "
            ]
          },
          "metadata": {},
          "execution_count": 17
        }
      ]
    },
    {
      "cell_type": "code",
      "source": [
        "df[\"waiting\"].mean()"
      ],
      "metadata": {
        "colab": {
          "base_uri": "https://localhost:8080/"
        },
        "id": "xCO79uOUHULx",
        "outputId": "54de3075-8112-40e9-ec55-09452769c8e5"
      },
      "execution_count": 18,
      "outputs": [
        {
          "output_type": "execute_result",
          "data": {
            "text/plain": [
              "1110.6192923223236"
            ]
          },
          "metadata": {},
          "execution_count": 18
        }
      ]
    },
    {
      "cell_type": "markdown",
      "source": [
        "We see that the waiting time is too high and we need to figure out the optimum number of cashiers for smooth operation of the store"
      ],
      "metadata": {
        "id": "sQHYAt-vIGAe"
      }
    },
    {
      "cell_type": "code",
      "source": [
        "def optimum_servers(mean_inter_arrival, mean_service, servers):\n",
        "  waiting = []\n",
        "  for server in servers:\n",
        "    sim_waiting = []\n",
        "    for i in range (1000):\n",
        "      # Simulating arrival time and service time\n",
        "      r_arr_time = FloatVector(np.random.exponential(mean_inter_arrival, 400).cumsum())\n",
        "      r_serv_time = FloatVector(np.random.exponential(mean_service, 400))\n",
        "\n",
        "      #Using R package to simulate queuing\n",
        "      simulation = r[\"queue_step\"](r_arr_time, r_serv_time, server)\n",
        "      sim_waiting.append(ro.conversion.rpy2py(simulation[2][3]).mean())\n",
        "    waiting.append( np.median(sim_waiting))\n",
        "  return waiting"
      ],
      "metadata": {
        "id": "OkE3K44otBEM"
      },
      "execution_count": 24,
      "outputs": []
    },
    {
      "cell_type": "code",
      "source": [
        "waiting = optimum_servers(lambda_inter_arrival_time, mu_service_time, no_of_servers)"
      ],
      "metadata": {
        "id": "0b9Bj63hJum3"
      },
      "execution_count": 29,
      "outputs": []
    },
    {
      "cell_type": "code",
      "source": [
        "list(zip(no_of_servers, waiting))"
      ],
      "metadata": {
        "colab": {
          "base_uri": "https://localhost:8080/"
        },
        "id": "A_t5dKLpJ8od",
        "outputId": "6dc41023-9a9e-46b3-96b7-2ab63c89d884"
      },
      "execution_count": 30,
      "outputs": [
        {
          "output_type": "execute_result",
          "data": {
            "text/plain": [
              "[(1, 1093.1143340102767),\n",
              " (2, 397.1910547389682),\n",
              " (3, 167.12721608419994),\n",
              " (4, 52.999986961135015),\n",
              " (5, 7.957706219373902),\n",
              " (6, 1.8082488712961862),\n",
              " (7, 0.5720109688796258),\n",
              " (8, 0.1806393764115387)]"
            ]
          },
          "metadata": {},
          "execution_count": 30
        }
      ]
    },
    {
      "cell_type": "markdown",
      "source": [
        "From the above simulation we conclude that the optimum number of cashiers is either 5 or 6 depending upon the service rate required and the strategy employed by the stakeholders."
      ],
      "metadata": {
        "id": "YOrmOWVokR-1"
      }
    },
    {
      "cell_type": "markdown",
      "source": [
        "Plotting the waiting time and number of servers"
      ],
      "metadata": {
        "id": "hTWao9qkA1lN"
      }
    },
    {
      "cell_type": "code",
      "source": [
        "plt.plot(no_of_servers, waiting)"
      ],
      "metadata": {
        "colab": {
          "base_uri": "https://localhost:8080/",
          "height": 282
        },
        "id": "UCWqDqLC9Bdi",
        "outputId": "d83c0d19-523f-4237-ad00-950544997126"
      },
      "execution_count": 31,
      "outputs": [
        {
          "output_type": "execute_result",
          "data": {
            "text/plain": [
              "[<matplotlib.lines.Line2D at 0x7f799895a7f0>]"
            ]
          },
          "metadata": {},
          "execution_count": 31
        },
        {
          "output_type": "display_data",
          "data": {
            "text/plain": [
              "<Figure size 432x288 with 1 Axes>"
            ],
            "image/png": "[encoded data removed]"
          },
          "metadata": {
            "needs_background": "light"
          }
        }
      ]
    }
  ]
}