{
  "nbformat": 4,
  "nbformat_minor": 0,
  "metadata": {
    "colab": {
      "provenance": []
    },
    "kernelspec": {
      "name": "python3",
      "display_name": "Python 3"
    },
    "language_info": {
      "name": "python"
    }
  },
  "cells": [
    {
      "cell_type": "markdown",
      "source": [
        "Queuing theory: Models the necessary resources needed to allocate for a service.       \n",
        "\n",
        "Components:\n",
        "1. Arrival time\n",
        "2. Service time\n",
        "3. No of resources\n"
      ],
      "metadata": {
        "id": "zr-pli7v216r"
      }
    },
    {
      "cell_type": "markdown",
      "source": [
        "Problem: Identify whether there is a need of another cashier for the operations of small grocery store. Customer comes to the cashier with an exponential arrival time of 1 minute. The customer tend to finish checking out with a mean of 1 minute and standard deviation of 0.2 minute. Will 1 cashier suffice if waiting time is less than two minutes"
      ],
      "metadata": {
        "id": "vH3f4abqUBsa"
      }
    },
    {
      "cell_type": "code",
      "source": [
        "import pandas as pd\n",
        "import numpy as np\n",
        "import matplotlib.pyplot as plt"
      ],
      "metadata": {
        "id": "apZxkNW0cac5"
      },
      "execution_count": 30,
      "outputs": []
    },
    {
      "cell_type": "code",
      "source": [
        "# Defining the problem with variables\n",
        "lambda_inter_arrival_time = 1\n",
        "mu_service_time = 1\n",
        "service_time_sd = 0.2"
      ],
      "metadata": {
        "id": "nUuLq6Rk21b6"
      },
      "execution_count": 1,
      "outputs": []
    },
    {
      "cell_type": "code",
      "source": [
        "# Defining a function to calculate waiting time\n",
        "def waiting_time(mean_inter_arrival, mean_service, service_sd):\n",
        "\n",
        "  # Simulating arrival time and service time\n",
        "  arr_time = np.random.exponential(mean_inter_arrival, 400).cumsum()\n",
        "  serv_time = np.random.normal(mean_service, service_sd, 400)\n",
        "  waiting_time = []\n",
        "  leaving_time = []\n",
        "  waiting_time.append(0)\n",
        "  leaving_time.append(arr_time[0] + serv_time[0])\n",
        "  for i in range (1, len(arr_time)):\n",
        "    waiting_time.append(max(0, leaving_time[i - 1] - arr_time[i]))\n",
        "    leaving_time.append(arr_time[i] + serv_time[i] + waiting_time[i])\n",
        "  mean_waiting_time = np.mean(waiting_time)\n",
        "  return mean_waiting_time"
      ],
      "metadata": {
        "id": "WTxoN-_LcfSK"
      },
      "execution_count": 20,
      "outputs": []
    },
    {
      "cell_type": "code",
      "source": [
        "waiting_time(lambda_inter_arrival_time, mu_service_time, service_time_sd)"
      ],
      "metadata": {
        "colab": {
          "base_uri": "https://localhost:8080/"
        },
        "id": "MKdgNA_eghFa",
        "outputId": "e13ca93c-b32b-4ea3-ba63-3c21c47e7c68"
      },
      "execution_count": 24,
      "outputs": [
        {
          "output_type": "execute_result",
          "data": {
            "text/plain": [
              "13.454516368716945"
            ]
          },
          "metadata": {},
          "execution_count": 24
        }
      ]
    },
    {
      "cell_type": "markdown",
      "source": [
        "Now this result varies as the random values of exponential and normal distribution changes. To get some concrete insight about the waiting time, we will find the mean waiting time for a large number of iterations."
      ],
      "metadata": {
        "id": "oaUNopG9iIwY"
      }
    },
    {
      "cell_type": "code",
      "source": [
        "def avg_simultaion(mean_inter_arrival, mean_service, service_sd):\n",
        "  sim_waiting = []\n",
        "  for i in range (1000):\n",
        "    # Simulating arrival time and service time\n",
        "    arr_time = np.random.exponential(mean_inter_arrival, 400).cumsum()\n",
        "    serv_time = np.random.normal(mean_service, service_sd, 400)\n",
        "    waiting_time = []\n",
        "    leaving_time = []\n",
        "    waiting_time.append(0)\n",
        "    leaving_time.append(arr_time[0] + serv_time[0])\n",
        "    for i in range (1, len(arr_time)):\n",
        "      waiting_time.append(max(0, leaving_time[i - 1] - arr_time[i]))\n",
        "      leaving_time.append(arr_time[i] + serv_time[i] + waiting_time[i])\n",
        "    mean_waiting_time = np.mean(waiting_time)\n",
        "    sim_waiting.append((mean_waiting_time))\n",
        "  return(sim_waiting)"
      ],
      "metadata": {
        "id": "hB4WPpZD5HCN"
      },
      "execution_count": 2,
      "outputs": []
    },
    {
      "cell_type": "code",
      "source": [
        "np.mean(avg_simultaion(lambda_inter_arrival_time, mu_service_time, service_time_sd))"
      ],
      "metadata": {
        "colab": {
          "base_uri": "https://localhost:8080/"
        },
        "id": "PKoO_px76uDU",
        "outputId": "657d07d3-6a55-4b1a-8414-db43889556ba"
      },
      "execution_count": 41,
      "outputs": [
        {
          "output_type": "execute_result",
          "data": {
            "text/plain": [
              "10.03387047991515"
            ]
          },
          "metadata": {},
          "execution_count": 41
        }
      ]
    },
    {
      "cell_type": "code",
      "source": [
        "np.median(avg_simultaion(lambda_inter_arrival_time, mu_service_time, service_time_sd))"
      ],
      "metadata": {
        "colab": {
          "base_uri": "https://localhost:8080/"
        },
        "id": "3vkK7bbc9fGE",
        "outputId": "22c7797e-a27e-4802-f81e-f4e86369f2ab"
      },
      "execution_count": 43,
      "outputs": [
        {
          "output_type": "execute_result",
          "data": {
            "text/plain": [
              "8.333484187151697"
            ]
          },
          "metadata": {},
          "execution_count": 43
        }
      ]
    },
    {
      "cell_type": "code",
      "source": [
        "plt.hist(avg_simultaion(lambda_inter_arrival_time, mu_service_time, service_time_sd))"
      ],
      "metadata": {
        "colab": {
          "base_uri": "https://localhost:8080/",
          "height": 352
        },
        "id": "DVRxNuA_7W2O",
        "outputId": "b86da8f2-d0e9-40c4-e65e-c06a848fa097"
      },
      "execution_count": 42,
      "outputs": [
        {
          "output_type": "execute_result",
          "data": {
            "text/plain": [
              "(array([222., 313., 195., 127.,  66.,  37.,  27.,  10.,   0.,   3.]),\n",
              " array([ 2.08697132,  5.59463078,  9.10229023, 12.60994969, 16.11760914,\n",
              "        19.6252686 , 23.13292805, 26.64058751, 30.14824696, 33.65590642,\n",
              "        37.16356587]),\n",
              " <a list of 10 Patch objects>)"
            ]
          },
          "metadata": {},
          "execution_count": 42
        },
        {
          "output_type": "display_data",
          "data": {
            "text/plain": [
              "<Figure size 432x288 with 1 Axes>"
            ],
            "image/png": "[encoded data removed]"
          },
          "metadata": {
            "needs_background": "light"
          }
        }
      ]
    },
    {
      "cell_type": "markdown",
      "source": [
        "From large number of iterations we find that the average waiting time is around 10 minutes. However the graph is right skewed and the median/mode lies near 8. So the waiting time for the given conditions is around 8 minutes which is quite high. Hence, 1 cashier is not enough for the seamless operations of the grocery store."
      ],
      "metadata": {
        "id": "4sOMFQdBYV5n"
      }
    }
  ]
}